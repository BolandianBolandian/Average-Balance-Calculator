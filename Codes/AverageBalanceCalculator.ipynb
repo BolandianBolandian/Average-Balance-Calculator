{
 "cells": [
  {
   "cell_type": "markdown",
   "id": "59f1391c-e796-42ff-b522-fce9e41accc5",
   "metadata": {},
   "source": [
    "# Data Cleaning"
   ]
  },
  {
   "cell_type": "code",
   "execution_count": 1,
   "id": "5525b6e9-ecef-41ad-aff6-e86200c2c49e",
   "metadata": {},
   "outputs": [],
   "source": [
    "import pandas as pd\n",
    "import numpy as np\n",
    "import os\n",
    "os.chdir('/home/sadegh/Downloads')"
   ]
  },
  {
   "cell_type": "code",
   "execution_count": 3,
   "id": "b79e497b-9e0b-434d-9ccf-01c6b51c0046",
   "metadata": {},
   "outputs": [],
   "source": [
    "data=pd.read_excel('Export_0302984722002_۱۴۰۲_۱۰_۳۰To۱۴۰۳_۰۱_۳۱.xlsx')\n",
    "data.drop(columns=['زمان'],inplace=True)\n",
    "data.columns=['Balance','Date']"
   ]
  },
  {
   "cell_type": "code",
   "execution_count": 5,
   "id": "dc4355f4-baba-43a9-9c0f-dab669f0996a",
   "metadata": {},
   "outputs": [],
   "source": [
    "for i in range(len(data)):\n",
    "    data['Balance'][i]=data['Balance'][i].replace(',','')"
   ]
  },
  {
   "cell_type": "code",
   "execution_count": 6,
   "id": "d913f4cc-b4cc-487c-886c-ed760e42ac28",
   "metadata": {},
   "outputs": [],
   "source": [
    "data['Balance'] = data['Balance'].astype(int)"
   ]
  },
  {
   "cell_type": "markdown",
   "id": "c201e199-fc7b-4990-ab14-14214ef193f9",
   "metadata": {},
   "source": [
    "# Calculating Mean of Account Balance"
   ]
  },
  {
   "cell_type": "code",
   "execution_count": 7,
   "id": "536999e6-ba75-41d9-99b3-d9862dd0753b",
   "metadata": {},
   "outputs": [
    {
     "name": "stdout",
     "output_type": "stream",
     "text": [
      "the mean of your account balance is equal to: 1508357.729310345 IRT\n"
     ]
    }
   ],
   "source": [
    "unique_dates=pd.unique(data['Date'])\n",
    "final_balance_list=[]\n",
    "for dates in unique_dates:\n",
    "    indexes=np.where(data['Date']==dates)\n",
    "    final_balance_list.append(data.iloc[indexes[0][0],0])\n",
    "Balance_mean=np.mean(final_balance_list)/10\n",
    "print(f'the mean of your account balance is equal to: {Balance_mean} IRT')"
   ]
  }
 ],
 "metadata": {
  "kernelspec": {
   "display_name": "Python 3 (ipykernel)",
   "language": "python",
   "name": "python3"
  },
  "language_info": {
   "codemirror_mode": {
    "name": "ipython",
    "version": 3
   },
   "file_extension": ".py",
   "mimetype": "text/x-python",
   "name": "python",
   "nbconvert_exporter": "python",
   "pygments_lexer": "ipython3",
   "version": "3.10.12"
  }
 },
 "nbformat": 4,
 "nbformat_minor": 5
}
